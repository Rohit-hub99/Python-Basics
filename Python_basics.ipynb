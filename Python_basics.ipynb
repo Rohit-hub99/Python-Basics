{
  "nbformat": 4,
  "nbformat_minor": 0,
  "metadata": {
    "colab": {
      "provenance": []
    },
    "kernelspec": {
      "name": "python3",
      "display_name": "Python 3"
    },
    "language_info": {
      "name": "python"
    }
  },
  "cells": [
    {
      "cell_type": "markdown",
      "source": [],
      "metadata": {
        "id": "20gojgyPtrLu"
      }
    },
    {
      "cell_type": "code",
      "execution_count": null,
      "metadata": {
        "id": "SkB9F3oGm5-Z"
      },
      "outputs": [],
      "source": []
    },
    {
      "cell_type": "markdown",
      "source": [
        "Python Basics Questions and Answers"
      ],
      "metadata": {
        "id": "PxKotIHTtuv-"
      }
    },
    {
      "cell_type": "markdown",
      "source": [
        "1. What is Python, and why is it popular ?\n",
        "  - Python is a high-level, interpreted programming language that is known for its simplicity, readability, and versatility. Created by Guido van Rossum and first released in 1991, Python emphasizes code readability and allows developers to express concepts in fewer lines of code compared to other programming languages.\n",
        "\n",
        "\n",
        "2. What is an interpreter in Python ?\n",
        "  - An interpreter in Python is a program that reads and executes the Python code line by line.\n",
        "  \n",
        "\n",
        "3.  What are pre-defined keywords in Python ?\n",
        "  - In Python, predefined keywords are reserved words that have special meanings and cannot be used as identifiers.\n",
        "    > Predefined Keywords in python are as follows. Below are some of the examples of predefined keywords.\n",
        "      - False: Boolean value indicating false.\n",
        "      - None: Represents the absence of a value or null.\n",
        "      - True: Boolean value indicating true.\n",
        "      - and: Logical AND operator.\n",
        "      - as: Used to create an alias while importing.\n",
        "      - break: Exits from the nearest enclosing loop.\n",
        "      - continue: Skips the current iteration of a loop and moves to the next iteration.\n",
        "      - def: Used to define a function.\n",
        "      - elif: Used in conditional statements, short for \"else if.\"\n",
        "      - else: Defines an alternative condition in an if statement.\n",
        "      - for: Used to define a for loop.\n",
        "      - if: Used to define a conditional statement.\n",
        "\n",
        "\n",
        "4. Can keywords be used as variable names ?\n",
        "  - No, keywords cannot be used as variable names in Python. Keywords are reserved words that have a special meaning in the language's syntax, and attempting to use them as identifiers such as variable names, function names, or class names will result in a syntax error.\n",
        "\n",
        "5. What is mutability in Python ?\n",
        "  - Mutability in Python refers to the ability of an object to be changed or modified after it has been created. Some objects in Python are mutable, meaning their content can be altered, while others are immutable, meaning their content cannot be changed once created.\n",
        "\n",
        "6. Why are lists mutable, but tuples are immutable ?\n",
        "  - The distinction between lists being mutable and tuples being immutable in Python is a design choice that reflects their intended use cases and trade-offs in performance, functionality, and safety.\n",
        "    >Lists are mutable because they are designed to be flexible and efficient when you need to modify a collection of items during the course of your program. Lists are frequently used in scenarios where you may want to add, remove, or modify elements, such as when you're dynamically managing a collection of data.\n",
        "\n",
        "    >Tuples are immutable to provide a reliable, safe way to store collections of items that should remain constant throughout the lifetime of a program. This immutability offers several advantages in terms of performance, safety, and use cases.\n",
        "\n",
        "7. What is the difference between “==” and “is” operators in Python ?\n",
        "  - In Python, the == and is operators both compare objects, but they do so in different ways:\n",
        "    >== (Equality Operator):\n",
        "The == operator checks if the values of two objects are equal.\n",
        "It compares the content of the objects (i.e., their data), not their memory addresses.\n",
        "If the values of the two objects are the same, the comparison will return True.    \n",
        "\n",
        "    >is (Identity Operator):\n",
        "    >Purpose: Checks if two variables refer to the same object in memory.\n",
        "    >Behavior: It compares the memory addresses (object identity).\n",
        "\n",
        "8. What are logical operators in Python ?\n",
        "  - Logical operators in Python are used to combine conditional statements or expressions. They evaluate the truthiness of one or more conditions and return a Boolean value True or False. Python has three logical operators:\n",
        "\n",
        "  > Logical AND\n",
        "\n",
        "  >Purpose: Returns True if both conditions are True.\n",
        "\n",
        "  >Behavior: Stops evaluating further if the first condition is False short-circuit evaluation.\n",
        "\n",
        "  - Logical OR\n",
        "\n",
        "  >Purpose: Returns True if at least one condition is True.\n",
        "\n",
        "  >Behavior: Stops evaluating further if the first condition is True short-circuit evaluation.\n",
        "\n",
        "  - Logical NOT\n",
        "\n",
        "  >Purpose: Reverses the Boolean value of a condition.\n",
        "\n",
        "  >Behavior: Converts True to False and False to True.\n",
        "\n",
        "9. What is type casting in Python ?\n",
        "  - Type casting (or type conversion) in Python refers to converting one data type into another. It is useful when you need to perform operations on variables of different types or ensure compatibility between types in your code.\n",
        "\n",
        "\n",
        "10. What is the difference between implicit and explicit type casting ?\n",
        "  - Definition\n",
        "   >Implicit Type Casting\tautomatically performed by Python when it is safe.\n",
        "\n",
        "    >Explicit Type Casting manually performed by the programmer using functions.\n",
        "\n",
        "  - Control\n",
        "   >Implicit Type Casting, Done by the Python interpreter without intervention.\n",
        "\n",
        "   >Explicit Type Casting, Fully controlled by the programmer.\n",
        "\n",
        "  - Safety\n",
        "   >Implicit Type Casting always safe; no loss of data or errors.\n",
        "\n",
        "   >Explicit Type Casting may lead to data loss or runtime errors if not handled properly.\n",
        "\n",
        "  - Use Case\n",
        "   >Implicit Type Casting, Happens during operations involving compatible types.\n",
        "\n",
        "   >Explicit Type Casting Used when explicit conversion is needed e.g., string to integer.\n",
        "\n",
        "\n",
        "11. What is the purpose of conditional statements in Python ?\n",
        "  - Conditional statements in Python are used to execute specific blocks of code based on whether a condition (or set of conditions) is True or False. They allow your program to make decisions and control the flow of execution, enabling dynamic and responsive behavior.\n",
        "\n",
        "\n",
        "12. How does the elif statement work ?\n",
        "  - The elif statement in Python is short for \"else if\" and is used to test multiple conditions sequentially after an initial if condition. It acts as an extension of an if statement, allowing you to evaluate more than one condition.\n",
        "\n",
        "\n",
        "13. What is the difference between for and while loops ?\n",
        "  - Both for and while loops in Python are used to execute a block of code repeatedly. However, they differ in how and when the repetition is controlled.\n",
        "\n",
        "  - Usage\n",
        "   >for Loop iterates over a sequence like a list, tuple, string, range, or any iterable.\n",
        "  \n",
        "   >while Loop repeats as long as a condition evaluates to True.\n",
        "\n",
        "  - Best for\n",
        "   >for Loop is best When the number of iterations or the sequence is known in advance.\n",
        "\n",
        "   >while Loop is best When the number of iterations is unknown and depends on a condition.\n",
        "\n",
        "\n",
        "14. Describe a scenario where a while loop is more suitable than a for loop.\n",
        "  - Input Validation\n",
        "   >A while loop is more suitable than a for loop in situations where you do not know how many times a condition needs to be checked in advance. One common example is input validation, where the program keeps prompting the user until they provide valid input.\n",
        "\n",
        "  - User Input for a Valid Password\n",
        "   >Imagine you are writing a program that asks the user to enter a password. The program should continue prompting the user until they enter the correct password. Since the number of attempts is unknown beforehand, a while loop is more appropriate.\n",
        "\n",
        "\n",
        "\n",
        "\n",
        "\n",
        "\n",
        "\n",
        "\n",
        "\n",
        "\n",
        "    \n",
        "      "
      ],
      "metadata": {
        "id": "BzyF13FY5mIL"
      }
    },
    {
      "cell_type": "code",
      "source": [],
      "metadata": {
        "id": "gawpw1kDsZym"
      },
      "execution_count": null,
      "outputs": []
    },
    {
      "cell_type": "markdown",
      "source": [
        "Practical Question"
      ],
      "metadata": {
        "id": "_GBRHrZEvfCC"
      }
    },
    {
      "cell_type": "code",
      "source": [
        "# 1. Write a Python program to print \"Hello, World!\n",
        "print(\"Hello, World!\")"
      ],
      "metadata": {
        "colab": {
          "base_uri": "https://localhost:8080/"
        },
        "id": "FPSGKe39vizI",
        "outputId": "ed4a4fc3-37b2-44f8-c789-d7062b7b8c7e"
      },
      "execution_count": 2,
      "outputs": [
        {
          "output_type": "stream",
          "name": "stdout",
          "text": [
            "Hello, World!\n"
          ]
        }
      ]
    },
    {
      "cell_type": "code",
      "source": [
        "# 2. Write a Python program that displays your name and age\n",
        "\n",
        "name = \"Rohit Jha\"\n",
        "age = 25\n",
        "\n",
        "print(\"Name:\", name )\n",
        "print(\"Age:\", age)"
      ],
      "metadata": {
        "colab": {
          "base_uri": "https://localhost:8080/"
        },
        "id": "-cHUTY_xv1xn",
        "outputId": "ccd0678c-393f-4923-ffdb-a01ba00fd040"
      },
      "execution_count": 6,
      "outputs": [
        {
          "output_type": "stream",
          "name": "stdout",
          "text": [
            "Name: Rohit Jha\n",
            "Age: 25\n"
          ]
        }
      ]
    },
    {
      "cell_type": "code",
      "source": [
        "# 3. Write code to print all the pre-defined keywords in Python using the keyword library\n",
        "\n",
        "import keyword\n",
        "\n",
        "print(\"Python Keywords:\", keyword.kwlist)"
      ],
      "metadata": {
        "colab": {
          "base_uri": "https://localhost:8080/"
        },
        "id": "LDEj9xs2xqgG",
        "outputId": "6b018057-25f1-46fe-e2ed-be509234b0aa"
      },
      "execution_count": 10,
      "outputs": [
        {
          "output_type": "stream",
          "name": "stdout",
          "text": [
            "Python Keywords: ['False', 'None', 'True', 'and', 'as', 'assert', 'async', 'await', 'break', 'class', 'continue', 'def', 'del', 'elif', 'else', 'except', 'finally', 'for', 'from', 'global', 'if', 'import', 'in', 'is', 'lambda', 'nonlocal', 'not', 'or', 'pass', 'raise', 'return', 'try', 'while', 'with', 'yield']\n"
          ]
        }
      ]
    },
    {
      "cell_type": "code",
      "source": [
        "# 4. Write a program that checks if a given word is a Python keyword\n",
        "\n",
        "word = input(\"Enter a word to check if it is a Python keyword: \")\n",
        "\n",
        "if keyword.iskeyword(word):\n",
        "    print(f\"'{word}' is a Python keyword.\")\n",
        "else:\n",
        "    print(f\"'{word}' is not a Python keyword.\")\n"
      ],
      "metadata": {
        "colab": {
          "base_uri": "https://localhost:8080/"
        },
        "id": "LI9xuSmpyVsb",
        "outputId": "0bf17b0e-3201-463b-fbb3-a2bcc6cf69c8"
      },
      "execution_count": 11,
      "outputs": [
        {
          "output_type": "stream",
          "name": "stdout",
          "text": [
            "Enter a word to check if it is a Python keyword: str\n",
            "'str' is not a Python keyword.\n"
          ]
        }
      ]
    },
    {
      "cell_type": "code",
      "source": [
        "# 5. Create a list and tuple in Python, and demonstrate how attempting to change an element works differently for each\n",
        "\n",
        "my_list = [1, 2, 3, 4]\n",
        "my_tuple = (1, 2, 3, 4)\n",
        "\n",
        "print(\"Original list:\", my_list)\n",
        "my_list[2] = 99  # Changing the element at index 2 in the list\n",
        "print(\"Modified list:\", my_list)\n",
        "\n",
        "print(\"\\nOriginal tuple:\", my_tuple)\n",
        "try:\n",
        "    my_tuple[2] = 99  # Trying to change the element at index 2 in the tuple\n",
        "except TypeError as e:\n",
        "    print(\"Error while modifying tuple:\", e)\n",
        "\n"
      ],
      "metadata": {
        "colab": {
          "base_uri": "https://localhost:8080/"
        },
        "id": "OXtg22euy2ww",
        "outputId": "0242c0a8-7b0e-4371-aa74-a2b4863ef6e2"
      },
      "execution_count": 12,
      "outputs": [
        {
          "output_type": "stream",
          "name": "stdout",
          "text": [
            "Original list: [1, 2, 3, 4]\n",
            "Modified list: [1, 2, 99, 4]\n",
            "\n",
            "Original tuple: (1, 2, 3, 4)\n",
            "Error while modifying tuple: 'tuple' object does not support item assignment\n"
          ]
        }
      ]
    },
    {
      "cell_type": "code",
      "source": [
        "# 6. Write a function to demonstrate the behavior of mutable and immutable arguments\n",
        "\n",
        "\n",
        "\n",
        "def demonstrate_mutable_immutable(mutable_arg, immutable_arg):\n",
        "    # Modifying the mutable argument (list)\n",
        "    print(\"Before modifying mutable argument:\", mutable_arg)\n",
        "    mutable_arg.append(99)  # Adding an element to the list\n",
        "    print(\"After modifying mutable argument:\", mutable_arg)\n",
        "\n",
        "    # Modifying the immutable argument (integer)\n",
        "    print(\"Before modifying immutable argument:\", immutable_arg)\n",
        "    immutable_arg += 10  # Trying to change the integer (creates a new value)\n",
        "    print(\"After modifying immutable argument:\", immutable_arg)\n",
        "\n",
        "    # Test the function with mutable (list) and immutable (int) arguments\n",
        "my_list = [1, 2, 3]\n",
        "my_number = 10\n",
        "\n",
        "    # Checking the values after the function call\n",
        "print(\"\\nAfter function call:\")\n",
        "print(\"Original list:\", my_list)  # The list will be modified\n",
        "print(\"Original number:\", my_number)  # The number will remain unchanged"
      ],
      "metadata": {
        "colab": {
          "base_uri": "https://localhost:8080/"
        },
        "id": "hFBJ6SMlzfof",
        "outputId": "bec4d4dd-d1c1-4303-ab45-f1cee2e68aab"
      },
      "execution_count": 18,
      "outputs": [
        {
          "output_type": "stream",
          "name": "stdout",
          "text": [
            "\n",
            "After function call:\n",
            "Original list: [1, 2, 3]\n",
            "Original number: 10\n"
          ]
        }
      ]
    },
    {
      "cell_type": "code",
      "source": [
        "# 7. Write a function to demonstrate the behavior of mutable and immutable arguments\n",
        "\n",
        "# Answer is same as 6th question's answer"
      ],
      "metadata": {
        "id": "g_rtImye01QJ"
      },
      "execution_count": null,
      "outputs": []
    },
    {
      "cell_type": "code",
      "source": [
        "# 8.  Write a program to demonstrate the use of logical operators\n",
        "\n",
        "a = True\n",
        "b = False\n",
        "x = 5\n",
        "y = 10\n",
        "\n",
        "# Logical AND (both conditions must be True)\n",
        "print(\"a and b:\", a and b)\n",
        "print(\"x > 3 and y < 20:\", x > 3 and y < 20)\n",
        "\n",
        "# Logical OR (at least one condition must be True)\n",
        "print(\"a or b:\", a or b)\n",
        "print(\"x < 3 or y > 5:\", x < 3 or y > 5)\n",
        "\n",
        "# Logical NOT (negates the condition)\n",
        "print(\"not a:\", not a)\n",
        "print(\"not b:\", not b)\n",
        "\n",
        "# Combining logical operators\n",
        "print(\"x > 3 and (y < 20 or a):\", x > 3 and (y < 20 or a))"
      ],
      "metadata": {
        "colab": {
          "base_uri": "https://localhost:8080/"
        },
        "id": "sz-8OoK21Lp5",
        "outputId": "c5883f4a-3a4e-4712-bb6c-92017afba394"
      },
      "execution_count": 19,
      "outputs": [
        {
          "output_type": "stream",
          "name": "stdout",
          "text": [
            "a and b: False\n",
            "x > 3 and y < 20: True\n",
            "a or b: True\n",
            "x < 3 or y > 5: True\n",
            "not a: False\n",
            "not b: True\n",
            "x > 3 and (y < 20 or a): True\n"
          ]
        }
      ]
    },
    {
      "cell_type": "code",
      "source": [
        "# 9. Write a Python program to convert user input from string to integer, float, and boolean types\n",
        "\n",
        "\n",
        "def convert_input():\n",
        "    user_input = raw_input(\"Enter a value: \")\n",
        "\n",
        "    # Convert to integer (if possible)\n",
        "    try:\n",
        "        integer_value = int(user_input)\n",
        "        print(\"Converted to integer:\", integer_value)\n",
        "    except ValueError:\n",
        "        print(\"Cannot convert to integer.\")\n",
        "\n",
        "    # Convert to float (if possible)\n",
        "    try:\n",
        "        float_value = float(user_input)\n",
        "        print(\"Converted to float:\", float_value)\n",
        "    except ValueError:\n",
        "        print(\"Cannot convert to float.\")\n",
        "\n",
        "    # Convert to boolean\n",
        "    boolean_value = user_input.lower() in ['true', '1', 't', 'y', 'yes']\n",
        "    print(\"Converted to boolean:\", boolean_value)\n",
        "\n",
        "\n",
        "# Call the function to demonstrate the conversions\n",
        "convert_input()"
      ],
      "metadata": {
        "colab": {
          "base_uri": "https://localhost:8080/",
          "height": 297
        },
        "id": "RXdGywZY17AX",
        "outputId": "e9062d8e-9674-4cee-8bdf-88f8d98b5c8b"
      },
      "execution_count": 47,
      "outputs": [
        {
          "output_type": "error",
          "ename": "NameError",
          "evalue": "name 'raw_input' is not defined",
          "traceback": [
            "\u001b[0;31m---------------------------------------------------------------------------\u001b[0m",
            "\u001b[0;31mNameError\u001b[0m                                 Traceback (most recent call last)",
            "\u001b[0;32m<ipython-input-47-abef0bf18c04>\u001b[0m in \u001b[0;36m<cell line: 27>\u001b[0;34m()\u001b[0m\n\u001b[1;32m     25\u001b[0m \u001b[0;34m\u001b[0m\u001b[0m\n\u001b[1;32m     26\u001b[0m \u001b[0;31m# Call the function to demonstrate the conversions\u001b[0m\u001b[0;34m\u001b[0m\u001b[0;34m\u001b[0m\u001b[0m\n\u001b[0;32m---> 27\u001b[0;31m \u001b[0mconvert_input\u001b[0m\u001b[0;34m(\u001b[0m\u001b[0;34m)\u001b[0m\u001b[0;34m\u001b[0m\u001b[0;34m\u001b[0m\u001b[0m\n\u001b[0m",
            "\u001b[0;32m<ipython-input-47-abef0bf18c04>\u001b[0m in \u001b[0;36mconvert_input\u001b[0;34m()\u001b[0m\n\u001b[1;32m      3\u001b[0m \u001b[0muser_input\u001b[0m \u001b[0;34m=\u001b[0m \u001b[0;34m\"25\"\u001b[0m\u001b[0;34m\u001b[0m\u001b[0;34m\u001b[0m\u001b[0m\n\u001b[1;32m      4\u001b[0m \u001b[0;32mdef\u001b[0m \u001b[0mconvert_input\u001b[0m\u001b[0;34m(\u001b[0m\u001b[0;34m)\u001b[0m\u001b[0;34m:\u001b[0m\u001b[0;34m\u001b[0m\u001b[0;34m\u001b[0m\u001b[0m\n\u001b[0;32m----> 5\u001b[0;31m     \u001b[0muser_input\u001b[0m \u001b[0;34m=\u001b[0m \u001b[0mraw_input\u001b[0m\u001b[0;34m(\u001b[0m\u001b[0;34m\"Enter a value: \"\u001b[0m\u001b[0;34m)\u001b[0m\u001b[0;34m\u001b[0m\u001b[0;34m\u001b[0m\u001b[0m\n\u001b[0m\u001b[1;32m      6\u001b[0m \u001b[0;34m\u001b[0m\u001b[0m\n\u001b[1;32m      7\u001b[0m     \u001b[0;31m# Convert to integer (if possible)\u001b[0m\u001b[0;34m\u001b[0m\u001b[0;34m\u001b[0m\u001b[0m\n",
            "\u001b[0;31mNameError\u001b[0m: name 'raw_input' is not defined"
          ]
        }
      ]
    },
    {
      "cell_type": "code",
      "source": [
        "# 10. Write code to demonstrate type casting with list elements\n",
        "\n",
        "mixed_list = ['1', '3.14', 'True', '42', 10]\n",
        "\n",
        "# Convert all string elements to integers, where possible\n",
        "int_list = [int(item) if isinstance(item, str) and item.isdigit() else 0 for item in mixed_list]\n",
        "\n",
        "# Convert all elements to floats\n",
        "float_list = [float(item) if isinstance(item, (int, float)) else 0.0 for item in mixed_list]\n",
        "\n",
        "# Convert all elements to boolean values\n",
        "bool_list = [bool(item) for item in mixed_list]\n",
        "\n",
        "# Display the original list and type-casted lists\n",
        "print(\"Original List:\", mixed_list)\n",
        "print(\"List after converting elements to integers:\", int_list)\n",
        "print(\"List after converting elements to floats:\", float_list)\n",
        "print(\"List after converting elements to booleans:\", bool_list)\n"
      ],
      "metadata": {
        "colab": {
          "base_uri": "https://localhost:8080/"
        },
        "id": "tnwC-sL84gLC",
        "outputId": "ffadecdd-e02c-48c6-b9dc-4f2f06cbf4e1"
      },
      "execution_count": 43,
      "outputs": [
        {
          "output_type": "stream",
          "name": "stdout",
          "text": [
            "Original List: ['1', '3.14', 'True', '42', 10]\n",
            "List after converting elements to integers: [1, 0, 0, 42, 0]\n",
            "List after converting elements to floats: [0.0, 0.0, 0.0, 0.0, 10.0]\n",
            "List after converting elements to booleans: [True, True, True, True, True]\n"
          ]
        }
      ]
    },
    {
      "cell_type": "code",
      "source": [
        "# 11. Write a program that checks if a number is positive, negative, or zero\n",
        "\n",
        "number = float(input(\"Enter a number: \"))\n",
        "\n",
        "if number > 0:\n",
        "    print(\"The number is positive.\")\n",
        "elif number < 0:\n",
        "    print(\"The number is negative.\")\n",
        "else:\n",
        "    print(\"The number is zero.\")"
      ],
      "metadata": {
        "colab": {
          "base_uri": "https://localhost:8080/"
        },
        "id": "I-OwiU2KSFS2",
        "outputId": "52dcf4c4-9274-48e9-ba9d-5e0be6788491"
      },
      "execution_count": 30,
      "outputs": [
        {
          "output_type": "stream",
          "name": "stdout",
          "text": [
            "Enter a number: 12\n",
            "The number is positive.\n"
          ]
        }
      ]
    },
    {
      "cell_type": "code",
      "source": [
        "# 12.  Write a for loop to print numbers from 1 to 100\n",
        "\n",
        "for number in range(1, 101):\n",
        "    print(number)"
      ],
      "metadata": {
        "colab": {
          "base_uri": "https://localhost:8080/"
        },
        "id": "uQEnn_XCSSjS",
        "outputId": "2ed14f32-ee54-4ac9-dc76-568718e19c8f"
      },
      "execution_count": 31,
      "outputs": [
        {
          "output_type": "stream",
          "name": "stdout",
          "text": [
            "1\n",
            "2\n",
            "3\n",
            "4\n",
            "5\n",
            "6\n",
            "7\n",
            "8\n",
            "9\n",
            "10\n",
            "11\n",
            "12\n",
            "13\n",
            "14\n",
            "15\n",
            "16\n",
            "17\n",
            "18\n",
            "19\n",
            "20\n",
            "21\n",
            "22\n",
            "23\n",
            "24\n",
            "25\n",
            "26\n",
            "27\n",
            "28\n",
            "29\n",
            "30\n",
            "31\n",
            "32\n",
            "33\n",
            "34\n",
            "35\n",
            "36\n",
            "37\n",
            "38\n",
            "39\n",
            "40\n",
            "41\n",
            "42\n",
            "43\n",
            "44\n",
            "45\n",
            "46\n",
            "47\n",
            "48\n",
            "49\n",
            "50\n",
            "51\n",
            "52\n",
            "53\n",
            "54\n",
            "55\n",
            "56\n",
            "57\n",
            "58\n",
            "59\n",
            "60\n",
            "61\n",
            "62\n",
            "63\n",
            "64\n",
            "65\n",
            "66\n",
            "67\n",
            "68\n",
            "69\n",
            "70\n",
            "71\n",
            "72\n",
            "73\n",
            "74\n",
            "75\n",
            "76\n",
            "77\n",
            "78\n",
            "79\n",
            "80\n",
            "81\n",
            "82\n",
            "83\n",
            "84\n",
            "85\n",
            "86\n",
            "87\n",
            "88\n",
            "89\n",
            "90\n",
            "91\n",
            "92\n",
            "93\n",
            "94\n",
            "95\n",
            "96\n",
            "97\n",
            "98\n",
            "99\n",
            "100\n"
          ]
        }
      ]
    },
    {
      "cell_type": "code",
      "source": [
        "# 13. Write a Python program to find the sum of all even numbers between 1 and 500\n",
        "\n",
        "even_sum = 0\n",
        "\n",
        "for number in range(1, 501):\n",
        "    if number % 2 == 0:\n",
        "        even_sum += number\n",
        "\n",
        "print(\"Sum of all even numbers between 1 and 500:\", even_sum)\n"
      ],
      "metadata": {
        "colab": {
          "base_uri": "https://localhost:8080/"
        },
        "id": "OQnnC72yUXRB",
        "outputId": "d483f5f4-f74e-436e-a3f8-b62bb95b93fa"
      },
      "execution_count": 35,
      "outputs": [
        {
          "output_type": "stream",
          "name": "stdout",
          "text": [
            "Sum of all even numbers between 1 and 500: 62750\n"
          ]
        }
      ]
    },
    {
      "cell_type": "code",
      "source": [
        "# 14. Write a program to reverse a string using a while loop\n",
        "\n",
        "user_input = input(\"Enter a string to reverse: \")\n",
        "\n",
        "reversed_string = \"\"\n",
        "index = len(user_input) - 1\n",
        "\n",
        "while index >= 0:\n",
        "    reversed_string += user_input[index]\n",
        "    index -= 1\n",
        "\n",
        "print(\"Reversed string:\", reversed_string)"
      ],
      "metadata": {
        "colab": {
          "base_uri": "https://localhost:8080/"
        },
        "id": "eQ_FEtKUVNyT",
        "outputId": "ad520a42-ea45-4e95-fbc5-4950911f3dbf"
      },
      "execution_count": 36,
      "outputs": [
        {
          "output_type": "stream",
          "name": "stdout",
          "text": [
            "Enter a string to reverse: \"Rohit\"\n",
            "Reversed string: \"tihoR\"\n"
          ]
        }
      ]
    },
    {
      "cell_type": "code",
      "source": [
        "# 15. Write a Python program to calculate the factorial of a number provided by the user using a while loop.\n",
        "\n",
        "number = int(input(\"Enter a number: \"))\n",
        "\n",
        "factorial = 1\n",
        "current_number = 1\n",
        "\n",
        "while current_number <= number:\n",
        "    factorial *= current_number\n",
        "    current_number += 1\n",
        "\n",
        "print(f\"The factorial of {number} is {factorial}\")"
      ],
      "metadata": {
        "colab": {
          "base_uri": "https://localhost:8080/"
        },
        "id": "nDKyYU5-V9Y2",
        "outputId": "cbb7de7a-2eab-40db-d60b-9101b3b1d6e6"
      },
      "execution_count": 37,
      "outputs": [
        {
          "output_type": "stream",
          "name": "stdout",
          "text": [
            "Enter a number: 12\n",
            "The factorial of 12 is 479001600\n"
          ]
        }
      ]
    },
    {
      "cell_type": "code",
      "source": [],
      "metadata": {
        "id": "gEdhjN-WWKIy"
      },
      "execution_count": null,
      "outputs": []
    }
  ]
}